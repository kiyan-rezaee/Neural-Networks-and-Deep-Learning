{
 "cells": [
  {
   "cell_type": "code",
   "execution_count": 5,
   "id": "cbb6585c",
   "metadata": {},
   "outputs": [],
   "source": [
    "import numpy as np"
   ]
  },
  {
   "cell_type": "code",
   "execution_count": 6,
   "id": "878eecd1",
   "metadata": {},
   "outputs": [],
   "source": [
    "a = np.random.rand(1000000)\n",
    "b = np.random.rand(1000000)"
   ]
  },
  {
   "cell_type": "code",
   "execution_count": 7,
   "id": "fd11be44",
   "metadata": {},
   "outputs": [],
   "source": [
    "import time"
   ]
  },
  {
   "cell_type": "code",
   "execution_count": 11,
   "id": "c6d50c39",
   "metadata": {},
   "outputs": [
    {
     "name": "stdout",
     "output_type": "stream",
     "text": [
      "Vectorization = 1.4994144439697266ms\n",
      "non-Vectorization = 756.5925121307373ms\n",
      "results : 249731.36388045317 , 249731.36388045648\n"
     ]
    }
   ],
   "source": [
    "x = time.time()\n",
    "c = np.dot(a, b)\n",
    "y = time.time()\n",
    "\n",
    "print('Vectorization = ' + str(1000 * (y-x)) + 'ms')\n",
    "\n",
    "z = 0\n",
    "k = time.time()\n",
    "for i in range(len(a)):\n",
    "    z += a[i] * b[i]\n",
    "p = time.time()\n",
    "\n",
    "print('non-Vectorization = ' + str(1000 * (p-k)) + 'ms')\n",
    "\n",
    "print(f'results : {c} , {z}')"
   ]
  },
  {
   "cell_type": "code",
   "execution_count": 13,
   "id": "503327a0",
   "metadata": {},
   "outputs": [],
   "source": [
    "# np.log()\n",
    "# np.abs()\n",
    "# np.maximum()"
   ]
  }
 ],
 "metadata": {
  "kernelspec": {
   "display_name": "Python 3",
   "language": "python",
   "name": "python3"
  },
  "language_info": {
   "codemirror_mode": {
    "name": "ipython",
    "version": 3
   },
   "file_extension": ".py",
   "mimetype": "text/x-python",
   "name": "python",
   "nbconvert_exporter": "python",
   "pygments_lexer": "ipython3",
   "version": "3.8.8"
  }
 },
 "nbformat": 4,
 "nbformat_minor": 5
}
